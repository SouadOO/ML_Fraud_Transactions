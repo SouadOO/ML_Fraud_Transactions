{
 "cells": [
  {
   "cell_type": "code",
   "execution_count": 1,
   "metadata": {},
   "outputs": [
    {
     "name": "stderr",
     "output_type": "stream",
     "text": [
      "C:\\Users\\souad\\Anaconda3\\lib\\site-packages\\sklearn\\ensemble\\weight_boosting.py:29: DeprecationWarning: numpy.core.umath_tests is an internal NumPy module and should not be imported. It will be removed in a future NumPy release.\n",
      "  from numpy.core.umath_tests import inner1d\n"
     ]
    }
   ],
   "source": [
    "import numpy as np \n",
    "import pandas as pd \n",
    "import seaborn as sns\n",
    "import matplotlib.image as mpimg\n",
    "import matplotlib.pyplot as plt\n",
    "import matplotlib\n",
    "%matplotlib inline\n",
    "import warnings\n",
    "\n",
    "# Import the 3 dimensionality reduction methods\n",
    "from sklearn.manifold import TSNE\n",
    "from sklearn.decomposition import PCA\n",
    "\n",
    "#Unbalanced data\n",
    "from imblearn.combine import SMOTETomek\n",
    "\n",
    "#Split data\n",
    "from sklearn.model_selection import train_test_split\n",
    "\n",
    "#Models\n",
    "from sklearn.ensemble import RandomForestClassifier\n",
    "from sklearn.tree import DecisionTreeClassifier\n",
    "\n",
    "#Test confusion matrix\n",
    "from sklearn.metrics import confusion_matrix\n",
    "\n",
    "#decision boundary\n",
    "from pylib.plot import plot_decision_boundary\n",
    "\n",
    "#tuning parameters\n",
    "from sklearn.model_selection import RandomizedSearchCV\n",
    "\n",
    "#subplot\n",
    "from pylab import *\n",
    "\n",
    "#warning ignore\n",
    "import warnings\n",
    "warnings.filterwarnings(\"ignore\", category=DeprecationWarning)\n",
    "\n",
    "#scaling\n",
    "from sklearn.preprocessing import LabelEncoder, OneHotEncoder\n",
    "\n",
    "#Accuracy\n",
    "from sklearn.metrics import precision_recall_fscore_support\n"
   ]
  },
  {
   "cell_type": "code",
   "execution_count": 2,
   "metadata": {
    "scrolled": true
   },
   "outputs": [
    {
     "name": "stdout",
     "output_type": "stream",
     "text": [
      "<class 'pandas.core.frame.DataFrame'>\n",
      "RangeIndex: 6362620 entries, 0 to 6362619\n",
      "Data columns (total 11 columns):\n",
      "step              int64\n",
      "type              object\n",
      "amount            float64\n",
      "nameOrig          object\n",
      "oldBalanceOrig    float64\n",
      "newBalanceOrig    float64\n",
      "nameDest          object\n",
      "oldBalanceDest    float64\n",
      "newBalanceDest    float64\n",
      "isFraud           int64\n",
      "isFlaggedFraud    int64\n",
      "dtypes: float64(5), int64(3), object(3)\n",
      "memory usage: 534.0+ MB\n",
      "Dataset size (6362620, 11)\n"
     ]
    }
   ],
   "source": [
    "######################################   LOAD DATA:   ################################\n",
    "\n",
    "df = pd.read_csv('dataset.csv')\n",
    "\n",
    "df = df.rename(columns={'oldbalanceOrg':'oldBalanceOrig', 'newbalanceOrig':'newBalanceOrig', \\\n",
    "                        'oldbalanceDest':'oldBalanceDest', 'newbalanceDest':'newBalanceDest'})\n",
    "df.info()\n",
    "print(\"Dataset size\", df.shape)"
   ]
  },
  {
   "cell_type": "code",
   "execution_count": 3,
   "metadata": {},
   "outputs": [
    {
     "name": "stderr",
     "output_type": "stream",
     "text": [
      "C:\\Users\\souad\\Anaconda3\\lib\\site-packages\\pandas\\core\\frame.py:3697: SettingWithCopyWarning: \n",
      "A value is trying to be set on a copy of a slice from a DataFrame\n",
      "\n",
      "See the caveats in the documentation: http://pandas.pydata.org/pandas-docs/stable/indexing.html#indexing-view-versus-copy\n",
      "  errors=errors)\n"
     ]
    },
    {
     "name": "stdout",
     "output_type": "stream",
     "text": [
      "Dataset size (2770409, 8)\n"
     ]
    },
    {
     "data": {
      "text/html": [
       "<div>\n",
       "<style scoped>\n",
       "    .dataframe tbody tr th:only-of-type {\n",
       "        vertical-align: middle;\n",
       "    }\n",
       "\n",
       "    .dataframe tbody tr th {\n",
       "        vertical-align: top;\n",
       "    }\n",
       "\n",
       "    .dataframe thead th {\n",
       "        text-align: right;\n",
       "    }\n",
       "</style>\n",
       "<table border=\"1\" class=\"dataframe\">\n",
       "  <thead>\n",
       "    <tr style=\"text-align: right;\">\n",
       "      <th></th>\n",
       "      <th>step</th>\n",
       "      <th>type</th>\n",
       "      <th>amount</th>\n",
       "      <th>oldBalanceOrig</th>\n",
       "      <th>newBalanceOrig</th>\n",
       "      <th>oldBalanceDest</th>\n",
       "      <th>newBalanceDest</th>\n",
       "      <th>isFraud</th>\n",
       "    </tr>\n",
       "  </thead>\n",
       "  <tbody>\n",
       "    <tr>\n",
       "      <th>2</th>\n",
       "      <td>1</td>\n",
       "      <td>TRANSFER</td>\n",
       "      <td>181.00</td>\n",
       "      <td>181.0</td>\n",
       "      <td>0.0</td>\n",
       "      <td>0.0</td>\n",
       "      <td>0.00</td>\n",
       "      <td>1</td>\n",
       "    </tr>\n",
       "    <tr>\n",
       "      <th>3</th>\n",
       "      <td>1</td>\n",
       "      <td>CASH_OUT</td>\n",
       "      <td>181.00</td>\n",
       "      <td>181.0</td>\n",
       "      <td>0.0</td>\n",
       "      <td>21182.0</td>\n",
       "      <td>0.00</td>\n",
       "      <td>1</td>\n",
       "    </tr>\n",
       "    <tr>\n",
       "      <th>15</th>\n",
       "      <td>1</td>\n",
       "      <td>CASH_OUT</td>\n",
       "      <td>229133.94</td>\n",
       "      <td>15325.0</td>\n",
       "      <td>0.0</td>\n",
       "      <td>5083.0</td>\n",
       "      <td>51513.44</td>\n",
       "      <td>0</td>\n",
       "    </tr>\n",
       "    <tr>\n",
       "      <th>19</th>\n",
       "      <td>1</td>\n",
       "      <td>TRANSFER</td>\n",
       "      <td>215310.30</td>\n",
       "      <td>705.0</td>\n",
       "      <td>0.0</td>\n",
       "      <td>22425.0</td>\n",
       "      <td>0.00</td>\n",
       "      <td>0</td>\n",
       "    </tr>\n",
       "    <tr>\n",
       "      <th>24</th>\n",
       "      <td>1</td>\n",
       "      <td>TRANSFER</td>\n",
       "      <td>311685.89</td>\n",
       "      <td>10835.0</td>\n",
       "      <td>0.0</td>\n",
       "      <td>6267.0</td>\n",
       "      <td>2719172.89</td>\n",
       "      <td>0</td>\n",
       "    </tr>\n",
       "  </tbody>\n",
       "</table>\n",
       "</div>"
      ],
      "text/plain": [
       "    step      type     amount  oldBalanceOrig  newBalanceOrig  oldBalanceDest  \\\n",
       "2      1  TRANSFER     181.00           181.0             0.0             0.0   \n",
       "3      1  CASH_OUT     181.00           181.0             0.0         21182.0   \n",
       "15     1  CASH_OUT  229133.94         15325.0             0.0          5083.0   \n",
       "19     1  TRANSFER  215310.30           705.0             0.0         22425.0   \n",
       "24     1  TRANSFER  311685.89         10835.0             0.0          6267.0   \n",
       "\n",
       "    newBalanceDest  isFraud  \n",
       "2             0.00        1  \n",
       "3             0.00        1  \n",
       "15        51513.44        0  \n",
       "19            0.00        0  \n",
       "24      2719172.89        0  "
      ]
     },
     "execution_count": 3,
     "metadata": {},
     "output_type": "execute_result"
    }
   ],
   "source": [
    "####################################    DATA PREPROCESSING     ################################\n",
    "##########################################  CLEAN DATA ########################################\n",
    "\n",
    "#Relying on EDA, we must to:\n",
    "#1 deal with umbalanced data\n",
    "#2 work only with 'TRANSFER's and 'CASH_OUT' transaction\n",
    "#3 Remove IsFlaggedFraud\n",
    "#4 Remove Marchand from data\n",
    "#5 Add new column for amount to deal with missing balnaces \n",
    "\n",
    "#print ('dataset size :%s'& df_clean.shape)\n",
    "\n",
    "# 2 only two types of transactions occurs in fraud,So we assemble only the corresponding data in X for analysis\n",
    "df_clean = df.loc[(df.type == 'TRANSFER') | (df.type == 'CASH_OUT')]\n",
    "\n",
    "# 3 Remove IsFlaggedFraud,it is meaningful because isFraud always set when IsFlaggedFraud is set\n",
    "df_clean.drop(['isFlaggedFraud'],axis=1,inplace=True)\n",
    "\n",
    "# fraud occurs only in customers who's name does not start with M\n",
    "df_clean = df_clean[~df_clean.nameOrig.str.startswith('M') | ~df_clean.nameDest.str.startswith('M')]\n",
    "\n",
    "# 4 Eliminate columns shown to be irrelevant for analysis in the EDA\n",
    "df_clean.drop(['nameOrig','nameDest'],axis=1,inplace=True)\n",
    "\n",
    "\n",
    "\n",
    "print(\"Dataset size\", df_clean.shape)\n",
    "df_clean.head()"
   ]
  },
  {
   "cell_type": "code",
   "execution_count": 4,
   "metadata": {},
   "outputs": [
    {
     "name": "stdout",
     "output_type": "stream",
     "text": [
      "Dataset size (2770409, 9)\n"
     ]
    },
    {
     "data": {
      "text/html": [
       "<div>\n",
       "<style scoped>\n",
       "    .dataframe tbody tr th:only-of-type {\n",
       "        vertical-align: middle;\n",
       "    }\n",
       "\n",
       "    .dataframe tbody tr th {\n",
       "        vertical-align: top;\n",
       "    }\n",
       "\n",
       "    .dataframe thead th {\n",
       "        text-align: right;\n",
       "    }\n",
       "</style>\n",
       "<table border=\"1\" class=\"dataframe\">\n",
       "  <thead>\n",
       "    <tr style=\"text-align: right;\">\n",
       "      <th></th>\n",
       "      <th>type</th>\n",
       "      <th>step</th>\n",
       "      <th>amount</th>\n",
       "      <th>balanceSender</th>\n",
       "      <th>balanceReceiver</th>\n",
       "      <th>errorBalanceDest</th>\n",
       "      <th>errorBalanceOrig</th>\n",
       "      <th>noErrors</th>\n",
       "      <th>isFraud</th>\n",
       "    </tr>\n",
       "  </thead>\n",
       "  <tbody>\n",
       "    <tr>\n",
       "      <th>2</th>\n",
       "      <td>TRANSFER</td>\n",
       "      <td>1</td>\n",
       "      <td>181.00</td>\n",
       "      <td>0.0</td>\n",
       "      <td>0.00</td>\n",
       "      <td>181.00</td>\n",
       "      <td>362.00</td>\n",
       "      <td>0</td>\n",
       "      <td>1</td>\n",
       "    </tr>\n",
       "    <tr>\n",
       "      <th>3</th>\n",
       "      <td>CASH_OUT</td>\n",
       "      <td>1</td>\n",
       "      <td>181.00</td>\n",
       "      <td>0.0</td>\n",
       "      <td>0.00</td>\n",
       "      <td>-21001.00</td>\n",
       "      <td>362.00</td>\n",
       "      <td>0</td>\n",
       "      <td>1</td>\n",
       "    </tr>\n",
       "    <tr>\n",
       "      <th>15</th>\n",
       "      <td>CASH_OUT</td>\n",
       "      <td>1</td>\n",
       "      <td>229133.94</td>\n",
       "      <td>0.0</td>\n",
       "      <td>51513.44</td>\n",
       "      <td>275564.38</td>\n",
       "      <td>244458.94</td>\n",
       "      <td>0</td>\n",
       "      <td>0</td>\n",
       "    </tr>\n",
       "    <tr>\n",
       "      <th>19</th>\n",
       "      <td>TRANSFER</td>\n",
       "      <td>1</td>\n",
       "      <td>215310.30</td>\n",
       "      <td>0.0</td>\n",
       "      <td>0.00</td>\n",
       "      <td>192885.30</td>\n",
       "      <td>216015.30</td>\n",
       "      <td>0</td>\n",
       "      <td>0</td>\n",
       "    </tr>\n",
       "    <tr>\n",
       "      <th>24</th>\n",
       "      <td>TRANSFER</td>\n",
       "      <td>1</td>\n",
       "      <td>311685.89</td>\n",
       "      <td>0.0</td>\n",
       "      <td>2719172.89</td>\n",
       "      <td>3024591.78</td>\n",
       "      <td>322520.89</td>\n",
       "      <td>0</td>\n",
       "      <td>0</td>\n",
       "    </tr>\n",
       "  </tbody>\n",
       "</table>\n",
       "</div>"
      ],
      "text/plain": [
       "        type  step     amount  balanceSender  balanceReceiver  \\\n",
       "2   TRANSFER     1     181.00            0.0             0.00   \n",
       "3   CASH_OUT     1     181.00            0.0             0.00   \n",
       "15  CASH_OUT     1  229133.94            0.0         51513.44   \n",
       "19  TRANSFER     1  215310.30            0.0             0.00   \n",
       "24  TRANSFER     1  311685.89            0.0       2719172.89   \n",
       "\n",
       "    errorBalanceDest  errorBalanceOrig  noErrors  isFraud  \n",
       "2             181.00            362.00         0        1  \n",
       "3          -21001.00            362.00         0        1  \n",
       "15         275564.38         244458.94         0        0  \n",
       "19         192885.30         216015.30         0        0  \n",
       "24        3024591.78         322520.89         0        0  "
      ]
     },
     "execution_count": 4,
     "metadata": {},
     "output_type": "execute_result"
    }
   ],
   "source": [
    "####################################    DATA PREPROCESSING     ################################\n",
    "##################################### Features Engineering ####################################\n",
    "\n",
    "\n",
    "#5 Add new column for amount to deal with missing balanaces => Features engineering\n",
    "\n",
    "#There is some descrepancy in the data. oldBalanceSender - amount should equal newBalanceSender\n",
    "# and oldBalanceReceiver + amount should equal newBalanceReceiver but doesn't always occur. create features\n",
    "# and remove previous balance from both sender and receiver\n",
    "\n",
    "\n",
    "df_feature = pd.DataFrame(df_clean)\n",
    "df_feature['errorBalanceOrig'] = df_feature.oldBalanceOrig + df_feature.amount - df_feature.newBalanceOrig\n",
    "df_feature['errorBalanceDest'] = df_feature.newBalanceDest + df_feature.amount - df_feature.oldBalanceDest\n",
    "df_feature['noErrors'] = np.where((df_feature.errorBalanceOrig == 0) & (df_feature.errorBalanceDest == 0), 1, 0)\n",
    "df_feature.drop(['oldBalanceOrig', 'oldBalanceDest'], 1, inplace=True)\n",
    "df_feature = df_feature.rename(columns={'newBalanceOrig':'balanceSender', 'newBalanceDest':'balanceReceiver'})\n",
    "\n",
    "\n",
    "#df_feature.dtypes\n",
    "\n",
    "#change order of columns\n",
    "df_feature = df_feature[['type','step', 'amount', 'balanceSender', 'balanceReceiver', 'errorBalanceDest','errorBalanceOrig','noErrors','isFraud']]\n",
    "\n",
    "\n",
    "print(\"Dataset size\", df_feature.shape)\n",
    "df_feature.head()"
   ]
  },
  {
   "cell_type": "code",
   "execution_count": 5,
   "metadata": {},
   "outputs": [
    {
     "name": "stdout",
     "output_type": "stream",
     "text": [
      "Dataset       :  2770409 with 0.2965 % fraudulent transactions\n",
      "Data training :  1662245 with 0.2941 % fraudulent transactions\n",
      "Data test     :  1108164 with 0.3000 % fraudulent transactions\n"
     ]
    }
   ],
   "source": [
    "####################################    DATA PREPROCESSING     ################################\n",
    "######################################  DATA Training   ####################################\n",
    "\n",
    "\n",
    "# --------- Binary-encoding of labelled data in 'type'  TRANSFER = 1, CASH_OUT = 0\n",
    "\n",
    "#df_feature['type'] = np.where(df_feature['type'] == 'TRANSFER', 1, 0)\n",
    "#df_feature = df_feature.reset_index(drop=True)\n",
    "\n",
    "# --------- Binary-encoding of labelled data in 'type'  TRANSFER = 1, CASH_OUT = 0\n",
    "\n",
    "one_hot = pd.get_dummies(df_feature['type'])\n",
    "df_feature = df_feature.drop('type',axis = 1)\n",
    "df_feature = df_feature.join(one_hot)\n",
    "\n",
    "\n",
    "# ---------- Split data to tarin and target\n",
    "y_data = df_feature['isFraud']\n",
    "x_data = df_feature.drop(['isFraud'],axis=1)\n",
    "\n",
    "# ----------------- - Standardize the data\n",
    "from sklearn.preprocessing import StandardScaler\n",
    "x = x_data.values\n",
    "x_data = StandardScaler().fit_transform(x)\n",
    "\n",
    "#-------------------Split data to training=60% and test=40%\n",
    "X_train, X_test, Y_train, Y_test=train_test_split(x_data, y_data, test_size=0.4)\n",
    "p=100*float(sum(x == 1 for x in Y_train))/Y_train.size\n",
    "q=100*float(sum(x == 1 for x in Y_test))/Y_test.size\n",
    "r=100*float(sum(x == 1 for x in y_data))/y_data.size\n",
    "\n",
    "#\n",
    "Y_train=mod(Y_train,2)*2-1\n",
    "Y_test=mod(Y_test,2)*2-1\n",
    "\n",
    "print(\"Dataset       : \",y_data.size,'with %.4f'% r,'% fraudulent transactions')\n",
    "print(\"Data training : \",Y_train.size,'with %.4f'% p,'% fraudulent transactions')\n",
    "print(\"Data test     : \",Y_test.size,'with %.4f'% q,'% fraudulent transactions')"
   ]
  },
  {
   "cell_type": "code",
   "execution_count": 6,
   "metadata": {},
   "outputs": [
    {
     "name": "stdout",
     "output_type": "stream",
     "text": [
      "4889\n"
     ]
    }
   ],
   "source": [
    "print(sum(x == 1 for x in Y_train))\n"
   ]
  },
  {
   "cell_type": "code",
   "execution_count": 7,
   "metadata": {},
   "outputs": [
    {
     "name": "stdout",
     "output_type": "stream",
     "text": [
      "Data training size (1662245, 4)\n",
      "Data test size (1108164, 4)\n"
     ]
    }
   ],
   "source": [
    "####################################    DATA PREPROCESSING     ################################\n",
    "###################################### FEATURES SELECTION ####################################\n",
    "\n",
    "#----------------- PCA : singular value decomposition SVD ---------------\n",
    "\n",
    "# Calculating Eigenvectors and eigenvalues of Cov matirx\n",
    "mean_vec = np.mean(X_train, axis=0)\n",
    "cov_mat = np.cov(X_train.T)\n",
    "eig_vals, eig_vecs = np.linalg.eig(cov_mat)\n",
    "\n",
    "# Create a list of (eigenvalue, eigenvector) tuples\n",
    "eig_pairs = [ (np.abs(eig_vals[i]),eig_vecs[:,i]) for i in range(len(eig_vals))]\n",
    "\n",
    "# Sort the eigenvalue, eigenvector pair from high to low\n",
    "eig_pairs.sort(key = lambda x: x[0], reverse= True)\n",
    "\n",
    "# Calculation of Explained Variance from the eigenvalues\n",
    "tot = sum(eig_vals)\n",
    "var_exp = [(i/tot)*100 for i in sorted(eig_vals, reverse=True)] # Individual explained variance\n",
    "cum_var_exp = np.cumsum(var_exp) # Cumulative explained variance\n",
    "\n",
    "# Find the eigenvector beyond which 90% of the data is explained\n",
    "[ n for n,i in enumerate(cum_var_exp) if i>90 ][0]\n",
    "\n",
    "#So, we need 4 eigenvectors to explain 90% of the variance. So, let us reshape our training data matrix into a 42000*228 \n",
    "#matrix with each column corresponding to the projections onto the eigenvectors.\n",
    "\n",
    "# Call the PCA method with 4 components. \n",
    "pca_train = PCA(n_components=4)\n",
    "pca_test = PCA(n_components=4)\n",
    "\n",
    "pca_train.fit(X_train)\n",
    "pca_test.fit(X_test)\n",
    "\n",
    "X_train = pca_train.transform(X_train)\n",
    "X_test=pca_train.transform(X_test)\n",
    "\n",
    "print(\"Data training size\", X_train.shape)\n",
    "print(\"Data test size\", X_test.shape)\n"
   ]
  },
  {
   "cell_type": "code",
   "execution_count": 8,
   "metadata": {},
   "outputs": [
    {
     "name": "stdout",
     "output_type": "stream",
     "text": [
      "After OverUnderSampling, the shape of train_X: (3310896, 4)\n"
     ]
    },
    {
     "data": {
      "text/plain": [
       "Text(0,0.5,'Frequency')"
      ]
     },
     "execution_count": 8,
     "metadata": {},
     "output_type": "execute_result"
    },
    {
     "data": {
      "image/png": "[encoded data removed]",
      "text/plain": [
       "<Figure size 432x288 with 2 Axes>"
      ]
     },
     "metadata": {
      "needs_background": "light"
     },
     "output_type": "display_data"
    }
   ],
   "source": [
    "####################################    DATA PREPROCESSING     ################################\n",
    "###################################### Unbalanced data ########################################\n",
    "\n",
    "\n",
    "subplot(2,1,1)\n",
    "pd.value_counts(Y_train).plot.bar()\n",
    "plt.title('Fraud class histogram before SMOTETomek')\n",
    "plt.xlabel('Class')\n",
    "plt.ylabel('Frequency')\n",
    "\n",
    "#---------------------- OverSampling and UnderSampling\n",
    "\n",
    "smt = SMOTETomek(ratio='auto')\n",
    "x_train, y_train = smt.fit_sample(X_train, Y_train.ravel())\n",
    "\n",
    "\n",
    "print('After OverUnderSampling, the shape of train_X: {}'.format(x_train.shape))\n",
    "\n",
    "subplot(2,1,2)\n",
    "pd.value_counts(y_train).plot.bar()\n",
    "plt.title('Fraud class histogram after TuningSMOTE')\n",
    "plt.xlabel('Class')\n",
    "plt.ylabel('Frequency')\n"
   ]
  },
  {
   "cell_type": "code",
   "execution_count": 9,
   "metadata": {},
   "outputs": [
    {
     "data": {
      "text/plain": [
       "(83112, 4)"
      ]
     },
     "execution_count": 9,
     "metadata": {},
     "output_type": "execute_result"
    }
   ],
   "source": [
    "X_tun, x, Y_tun,y=train_test_split(X_train, Y_train, test_size=0.95)\n",
    "X_tun.shape"
   ]
  },
  {
   "cell_type": "code",
   "execution_count": 10,
   "metadata": {},
   "outputs": [
    {
     "name": "stdout",
     "output_type": "stream",
     "text": [
      "Fitting 10 folds for each of 10 candidates, totalling 100 fits\n"
     ]
    },
    {
     "name": "stderr",
     "output_type": "stream",
     "text": [
      "[Parallel(n_jobs=-1)]: Done  33 tasks      | elapsed:   18.9s\n",
      "[Parallel(n_jobs=-1)]: Done 100 out of 100 | elapsed:  1.4min finished\n"
     ]
    },
    {
     "name": "stdout",
     "output_type": "stream",
     "text": [
      "--- Model Fitting in 82.37213563919067 seconds ---\n"
     ]
    }
   ],
   "source": [
    "#####################################   Building Models   #############################\n",
    "############################# Parameter tuning for Random Forest ######################\n",
    "\n",
    "#Sub sample our dataset \n",
    "#Use the obtained fraction to tune the hyperparameters on\n",
    "X_tun, x, Y_tun,y=train_test_split(X_train, Y_train, test_size=0.95)\n",
    "X_tun.shape\n",
    "\n",
    "# Number of trees in random forest\n",
    "n_estimators = [int(x) for x in np.linspace(start = 200, stop = 2000, num = 10)]\n",
    "# Number of features to consider at every split\n",
    "max_features = ['auto', 'sqrt']\n",
    "# Maximum number of levels in tree\n",
    "max_depth = [int(x) for x in np.linspace(10, 110, num = 11)]\n",
    "max_depth.append(None)\n",
    "# Minimum number of samples required to split a node\n",
    "min_samples_split = [2, 5, 10]\n",
    "# Minimum number of samples required at each leaf node\n",
    "min_samples_leaf = [1, 2, 4]\n",
    "# Method of selecting samples for training each tree\n",
    "bootstrap = [True, False]\n",
    "\n",
    "\n",
    "# Create the random grid\n",
    "random_grid = {'n_estimators': n_estimators,\n",
    "               'max_features': max_features,\n",
    "               'max_depth': max_depth,\n",
    "               'min_samples_split': min_samples_split,\n",
    "               'min_samples_leaf': min_samples_leaf,\n",
    "               'bootstrap': bootstrap}\n",
    "\n",
    "# Use the random grid to search for best hyperparameters\n",
    "# First create the base model to tune\n",
    "rf = RandomForestClassifier()\n",
    "# Random search of parameters, using 3 fold cross validation, \n",
    "# search across 100 different combinations, and use all available cores\n",
    "rf_random = RandomizedSearchCV(estimator = rf, param_distributions = random_grid, n_iter = 10, cv = 10, verbose=2, random_state=42, n_jobs = -1)\n",
    "\n",
    "# Fit the random search model\n",
    "start_time = time.time()\n",
    "rf_random.fit(X_tun[:10,:], Y_tun[:10])\n",
    "print(\"--- Model Fitting in %s seconds ---\" % (time.time() - start_time))\n",
    "\n",
    "#view the best parameters from fitting the random search\n",
    "best_random=rf_random.best_params_\n"
   ]
  },
  {
   "cell_type": "code",
   "execution_count": 21,
   "metadata": {},
   "outputs": [],
   "source": [
    "best_random=rf_random.best_params_\n"
   ]
  },
  {
   "cell_type": "code",
   "execution_count": 26,
   "metadata": {},
   "outputs": [
    {
     "name": "stdout",
     "output_type": "stream",
     "text": [
      "Model Performance :\n",
      "Precision:  0.9995231282784931\n",
      "Recall:  0.8574350582941297\n",
      "F1 score:  0.9230430474512826\n",
      "Accuracy = 1.00%.\n"
     ]
    },
    {
     "ename": "AttributeError",
     "evalue": "'dict' object has no attribute 'predict'",
     "output_type": "error",
     "traceback": [
      "\u001b[1;31m---------------------------------------------------------------------------\u001b[0m",
      "\u001b[1;31mAttributeError\u001b[0m                            Traceback (most recent call last)",
      "\u001b[1;32m<ipython-input-26-25053c6563c3>\u001b[0m in \u001b[0;36m<module>\u001b[1;34m()\u001b[0m\n\u001b[0;32m     19\u001b[0m \u001b[1;33m\u001b[0m\u001b[0m\n\u001b[0;32m     20\u001b[0m \u001b[1;33m\u001b[0m\u001b[0m\n\u001b[1;32m---> 21\u001b[1;33m \u001b[0mrandom_F1\u001b[0m \u001b[1;33m=\u001b[0m \u001b[0mevaluate\u001b[0m\u001b[1;33m(\u001b[0m\u001b[0mbest_random\u001b[0m\u001b[1;33m,\u001b[0m \u001b[0mX_train\u001b[0m\u001b[1;33m,\u001b[0m \u001b[0mY_train\u001b[0m\u001b[1;33m)\u001b[0m\u001b[1;33m\u001b[0m\u001b[0m\n\u001b[0m\u001b[0;32m     22\u001b[0m \u001b[1;33m\u001b[0m\u001b[0m\n\u001b[0;32m     23\u001b[0m \u001b[0mprint\u001b[0m\u001b[1;33m(\u001b[0m\u001b[1;34m'Improvement of {:0.2f}%.'\u001b[0m\u001b[1;33m.\u001b[0m\u001b[0mformat\u001b[0m\u001b[1;33m(\u001b[0m \u001b[1;36m100\u001b[0m \u001b[1;33m*\u001b[0m \u001b[1;33m(\u001b[0m\u001b[0mbase_F1\u001b[0m \u001b[1;33m-\u001b[0m \u001b[0mrandom_F1\u001b[0m\u001b[1;33m)\u001b[0m \u001b[1;33m/\u001b[0m \u001b[0mbase_F1\u001b[0m\u001b[1;33m)\u001b[0m\u001b[1;33m)\u001b[0m\u001b[1;33m\u001b[0m\u001b[0m\n",
      "\u001b[1;32m<ipython-input-26-25053c6563c3>\u001b[0m in \u001b[0;36mevaluate\u001b[1;34m(model, x_test, y_true)\u001b[0m\n\u001b[0;32m      2\u001b[0m \u001b[1;33m\u001b[0m\u001b[0m\n\u001b[0;32m      3\u001b[0m \u001b[1;32mdef\u001b[0m \u001b[0mevaluate\u001b[0m\u001b[1;33m(\u001b[0m\u001b[0mmodel\u001b[0m\u001b[1;33m,\u001b[0m \u001b[0mx_test\u001b[0m\u001b[1;33m,\u001b[0m \u001b[0my_true\u001b[0m\u001b[1;33m)\u001b[0m\u001b[1;33m:\u001b[0m\u001b[1;33m\u001b[0m\u001b[0m\n\u001b[1;32m----> 4\u001b[1;33m     \u001b[0my_pred\u001b[0m \u001b[1;33m=\u001b[0m \u001b[0mmodel\u001b[0m\u001b[1;33m.\u001b[0m\u001b[0mpredict\u001b[0m\u001b[1;33m(\u001b[0m\u001b[0mx_test\u001b[0m\u001b[1;33m)\u001b[0m\u001b[1;33m\u001b[0m\u001b[0m\n\u001b[0m\u001b[0;32m      5\u001b[0m     \u001b[0mprint\u001b[0m\u001b[1;33m(\u001b[0m\u001b[1;34m'Model Performance :'\u001b[0m\u001b[1;33m)\u001b[0m\u001b[1;33m\u001b[0m\u001b[0m\n\u001b[0;32m      6\u001b[0m     \u001b[0maccuracy\u001b[0m \u001b[1;33m=\u001b[0m \u001b[0maccuracy_score\u001b[0m\u001b[1;33m(\u001b[0m\u001b[0my_true\u001b[0m\u001b[1;33m,\u001b[0m \u001b[0my_pred\u001b[0m\u001b[1;33m)\u001b[0m\u001b[1;33m\u001b[0m\u001b[0m\n",
      "\u001b[1;31mAttributeError\u001b[0m: 'dict' object has no attribute 'predict'"
     ]
    }
   ],
   "source": [
    "from sklearn.metrics import accuracy_score\n",
    "\n",
    "def evaluate(model, x_test, y_true):\n",
    "    y_pred = model.predict(x_test)\n",
    "    print('Model Performance :')\n",
    "    accuracy = accuracy_score(y_true, y_pred)\n",
    "    precision, recall, f1_score, _ = precision_recall_fscore_support(y_true, y_pred, average='binary')\n",
    "    print(\"Precision: \", precision)\n",
    "    print(\"Recall: \", recall)\n",
    "    print(\"F1 score: \", f1_score)\n",
    "    print('Accuracy = {:0.2f}%.'.format(accuracy))\n",
    "    \n",
    "    return f1_score\n",
    "'''\n",
    "base_model = RandomForestClassifier(n_estimators = 10, random_state = 42)\n",
    "base_model.fit(X_train, Y_train)\n",
    "'''\n",
    "base_F1 = evaluate(base_model, X_train, Y_train)\n",
    "\n",
    "\n",
    "random_F1 = evaluate(rf_random., X_train, Y_train)\n",
    "\n",
    "print('Improvement of {:0.2f}%.'.format( 100 * (base_F1 - random_F1) / base_F1))"
   ]
  },
  {
   "cell_type": "code",
   "execution_count": 25,
   "metadata": {},
   "outputs": [],
   "source": [
    "####################################    BUILDING MODEL     ################################\n",
    "######################################  Functions ######################################\n",
    "\n",
    "import itertools\n",
    "\n",
    "def drawConfusionMatrix(cm, labels):\n",
    "    fig = plt.figure()\n",
    "    ax = fig.add_subplot(111)\n",
    "    cax = ax.matshow(cm,interpolation='nearest',cmap=plt.cm.Blues)\n",
    "    plt.title('Confusion Matrix of Transactions')\n",
    "    fmt = '.2f' \n",
    "    thresh = cm.max() / 2.\n",
    "    for i, j in itertools.product(range(cm.shape[0]), range(cm.shape[1])):\n",
    "        plt.text(j, i, format(cm[i, j], fmt),\n",
    "                 horizontalalignment=\"center\",\n",
    "                 color=\"white\" if cm[i, j] > thresh else \"black\")\n",
    "\n",
    "    \n",
    "    fig.colorbar(cax)\n",
    "    tick_marks = np.arange(len(labels))\n",
    "    plt.xticks(tick_marks, labels, rotation=45)\n",
    "    plt.yticks(tick_marks, labels)\n",
    "    plt.xlabel('Predicted')\n",
    "    plt.ylabel('Actual')\n",
    "    plt.show()\n",
    "\n",
    "def correctFraudCount(y, y_pred):\n",
    "    labels = ['Not Fraud', 'Fraud']\n",
    "    cm = confusion_matrix(y, y_pred)\n",
    "    precision, recall, f1_score, _ = precision_recall_fscore_support(y, y_pred, average='binary')\n",
    "    \n",
    "    print ('\\n Precision : {:.3f}%'.format(precision))     \n",
    "    print (' Sensitive : {:.3f}%'.format(recall))\n",
    "    print (' F1 measure : {:.3f}'.format(f1_score))\n",
    "\n",
    "    drawConfusionMatrix(cm, labels)\n",
    "    \n",
    "    \n",
    "def printModel(model, testX, testY, y_pred):\n",
    "    #print('Percent Accuracy: {:.3f}%'.format(model.score(testX, testY)*100))\n",
    "    correctFraudCount(testY, y_pred)\n",
    "    \n",
    "\n",
    "def runModel(name, model, trainX, trainY, testX, testY):\n",
    "    print('=' * 20, name, '=' * 20)\n",
    "    start_time = time.time()\n",
    "    model.fit(trainX, trainY)\n",
    "    print(\"--- Model Fitting in %s seconds ---\" % (time.time() - start_time))\n",
    "    start_time = time.time()\n",
    "    y_pred = model.predict(testX)\n",
    "    print(\"--- Model Predicting in %s seconds ---\" % (time.time() - start_time))\n",
    "    plot_decision_boundary(model, X=trainX, Y=trainY)\n",
    "    printModel(model, testX, testY, y_pred)\n",
    "    \n",
    "  "
   ]
  },
  {
   "cell_type": "code",
   "execution_count": 18,
   "metadata": {},
   "outputs": [
    {
     "ename": "NameError",
     "evalue": "name 'runModel' is not defined",
     "output_type": "error",
     "traceback": [
      "\u001b[1;31m---------------------------------------------------------------------------\u001b[0m",
      "\u001b[1;31mNameError\u001b[0m                                 Traceback (most recent call last)",
      "\u001b[1;32m<ipython-input-18-de2ae417e823>\u001b[0m in \u001b[0;36m<module>\u001b[1;34m()\u001b[0m\n\u001b[0;32m     22\u001b[0m \u001b[1;33m\u001b[0m\u001b[0m\n\u001b[0;32m     23\u001b[0m \u001b[1;31m#run models\u001b[0m\u001b[1;33m\u001b[0m\u001b[1;33m\u001b[0m\u001b[0m\n\u001b[1;32m---> 24\u001b[1;33m \u001b[0mrunModel\u001b[0m\u001b[1;33m(\u001b[0m\u001b[1;34m'Random Forest'\u001b[0m\u001b[1;33m,\u001b[0m \u001b[0mRF_model\u001b[0m\u001b[1;33m,\u001b[0m \u001b[0mX_train\u001b[0m\u001b[1;33m,\u001b[0m \u001b[0mY_train\u001b[0m\u001b[1;33m,\u001b[0m \u001b[0mX_test\u001b[0m\u001b[1;33m,\u001b[0m \u001b[0mY_test\u001b[0m\u001b[1;33m)\u001b[0m\u001b[1;33m\u001b[0m\u001b[0m\n\u001b[0m\u001b[0;32m     25\u001b[0m \u001b[0mrunModel\u001b[0m\u001b[1;33m(\u001b[0m\u001b[1;34m'Decision tree'\u001b[0m\u001b[1;33m,\u001b[0m \u001b[0mDT_model\u001b[0m\u001b[1;33m,\u001b[0m \u001b[0mX_train\u001b[0m\u001b[1;33m,\u001b[0m \u001b[0mY_train\u001b[0m\u001b[1;33m,\u001b[0m \u001b[0mX_test\u001b[0m\u001b[1;33m,\u001b[0m \u001b[0mY_test\u001b[0m\u001b[1;33m)\u001b[0m\u001b[1;33m\u001b[0m\u001b[0m\n",
      "\u001b[1;31mNameError\u001b[0m: name 'runModel' is not defined"
     ]
    }
   ],
   "source": [
    "################################ Train and Test Models #############################\n",
    "#################################    Unbalanced Data   #############################\n",
    "\n",
    "#Create Models: Tuning RF and DT \n",
    "#Run Models on Umbalanced data\n",
    "\n",
    "#n_estimators=1000,max_features='sqrt': max_features,max_depth=110,min_samples_split=2,min_samples_leaf=1,bootstrap=True\n",
    "'''   \n",
    "#create Random forest\n",
    "rf=hyperparameters('RF',X_train, Y_train,0.9)\n",
    "Evaluationhyperparameters('RF',rf.best_params_,X_train, Y_train)\n",
    "RF_model=rf.best_estimator_\n",
    "\n",
    "#Create desicion tree\n",
    "dt=hyperparameters('DT',X_train, Y_train,0.9)\n",
    "Evaluationhyperparameters('DT',dt.best_params_,X_train, Y_train)\n",
    "DT_model=rf.best_estimator_\n",
    "'''\n",
    "#DT_model = RandomForestClassifier(n_estimators=1000,max_features='sqrt',max_depth=110,min_samples_split=2,min_samples_leaf=1,bootstrap=True)\n",
    "DT_model = RandomForestClassifier(n_estimators=200,max_features='sqrt',max_depth=50,min_samples_split=10,min_samples_leaf=2,bootstrap=True)\n",
    "#RF_model = DecisionTreeClassifier(max_features='sqrt',max_depth=110,min_samples_split=2,min_samples_leaf=1)\n",
    "    \n",
    "#run models\n",
    "runModel('Random Forest', RF_model, X_train, Y_train, X_test, Y_test)\n",
    "runModel('Decision tree', DT_model, X_train, Y_train, X_test, Y_test)\n",
    "\n"
   ]
  },
  {
   "cell_type": "code",
   "execution_count": 167,
   "metadata": {},
   "outputs": [
    {
     "name": "stdout",
     "output_type": "stream",
     "text": [
      "==================== Random Forest ====================\n",
      "--- Model Fitting in 33.705031871795654 seconds ---\n",
      "--- Model Predicting in 0.1849052906036377 seconds ---\n",
      "\n",
      " Precision : 0.950%\n",
      " Sensitive : 0.875%\n",
      " F measure : 1.414%\n",
      " ROC : 0.954%\n"
     ]
    },
    {
     "data": {
      "image/png": "[encoded data removed]",
      "text/plain": [
       "<Figure size 432x288 with 2 Axes>"
      ]
     },
     "metadata": {
      "needs_background": "light"
     },
     "output_type": "display_data"
    },
    {
     "name": "stdout",
     "output_type": "stream",
     "text": [
      "==================== Decision tree ====================\n",
      "--- Model Fitting in 156.74718594551086 seconds ---\n",
      "--- Model Predicting in 2.083489418029785 seconds ---\n",
      "\n",
      " Precision : 0.958%\n",
      " Sensitive : 0.871%\n",
      " F measure : 1.414%\n",
      " ROC : 0.962%\n"
     ]
    },
    {
     "data": {
      "image/png": "[encoded data removed]",
      "text/plain": [
       "<Figure size 432x288 with 2 Axes>"
      ]
     },
     "metadata": {
      "needs_background": "light"
     },
     "output_type": "display_data"
    },
    {
     "data": {
      "text/plain": [
       "(<Figure size 432x432 with 1 Axes>,\n",
       " StandardScaler(copy=True, with_mean=True, with_std=True),\n",
       " PCA(copy=True, iterated_power='auto', n_components=2, random_state=None,\n",
       "   svd_solver='auto', tol=0.0, whiten=False))"
      ]
     },
     "execution_count": 167,
     "metadata": {},
     "output_type": "execute_result"
    },
    {
     "data": {
      "image/png": "[encoded data removed]",
      "text/plain": [
       "<Figure size 432x432 with 1 Axes>"
      ]
     },
     "metadata": {
      "needs_background": "light"
     },
     "output_type": "display_data"
    },
    {
     "data": {
      "image/png": "[encoded data removed]",
      "text/plain": [
       "<Figure size 432x432 with 1 Axes>"
      ]
     },
     "metadata": {
      "needs_background": "light"
     },
     "output_type": "display_data"
    }
   ],
   "source": [
    "################################ Train and Test Models #############################\n",
    "#################################    SMOTETOMEK Data   #############################\n",
    "#Create Models: Tuning RF and DT \n",
    "#Run Models on Umbalanced data\n",
    "\n",
    "\n",
    "\n",
    "#create Random forest\n",
    "rf=hyperparameters('RF',x_train, y_train,0.9)\n",
    "Evaluationhyperparameters('RF',rf.best_params_,x_train, y_train)\n",
    "RF_model=rf.best_estimator_\n",
    "\n",
    "#Create desicion tree\n",
    "dt=hyperparameters('DT',x_train, y_train,0.9)\n",
    "Evaluationhyperparameters('DT',dt.best_params_,x_train, y_train)\n",
    "DT_model=rf.best_estimator_\n",
    "\n",
    "#run models\n",
    "runModel('Random Forest', RF_model, x_train, y_train, X_test, Y_test)\n",
    "runModel('Decision tree', DT_model, x_train, y_train, X_test, Y_test)\n",
    "\n"
   ]
  },
  {
   "cell_type": "code",
   "execution_count": null,
   "metadata": {},
   "outputs": [],
   "source": [
    "################################ Train and Test Models #############################\n",
    "#################################    Cost sensitive   #############################\n",
    "\n",
    "#create Random forest\n",
    "rf=hyperparameters('RF',X_train, Y_train,0.9,class_weight={0:1,1:2})\n",
    "Evaluationhyperparameters('RF',rf.best_params_,X_train, Y_train)\n",
    "RF_model=rf.best_estimator_\n",
    "\n",
    "#Create desicion tree\n",
    "dt=hyperparameters('DT',X_train, Y_train,0.9,class_weight={0:1,1:2})\n",
    "Evaluationhyperparameters('DT',dt.best_params_,X_train, Y_train)\n",
    "DT_model=rf.best_estimator_\n",
    "\n",
    "#run models\n",
    "runModel('Random Forest', RF_model, X_train, Y_train, X_test, Y_test)\n",
    "runModel('Decision tree', DT_model, X_train, Y_train, X_test, Y_test)\n"
   ]
  }
 ],
 "metadata": {
  "kernelspec": {
   "display_name": "Python 3",
   "language": "python",
   "name": "python3"
  },
  "language_info": {
   "codemirror_mode": {
    "name": "ipython",
    "version": 3
   },
   "file_extension": ".py",
   "mimetype": "text/x-python",
   "name": "python",
   "nbconvert_exporter": "python",
   "pygments_lexer": "ipython3",
   "version": "3.7.0"
  }
 },
 "nbformat": 4,
 "nbformat_minor": 2
}
