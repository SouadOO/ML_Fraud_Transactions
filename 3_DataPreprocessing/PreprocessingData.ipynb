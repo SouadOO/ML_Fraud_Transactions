{
 "cells": [
  {
   "cell_type": "code",
   "execution_count": 5,
   "metadata": {},
   "outputs": [],
   "source": [
    "import numpy as np \n",
    "import pandas as pd \n",
    "import seaborn as sns\n",
    "import matplotlib.pyplot as plt\n",
    "%matplotlib inline\n",
    "import warnings\n",
    "warnings.filterwarnings(\"ignore\", category=DeprecationWarning)\n",
    "\n",
    "# Import the 3 dimensionality reduction methods\n",
    "from sklearn.manifold import TSNE\n",
    "from sklearn.decomposition import PCA\n",
    "\n",
    "#Unbalanced data\n",
    "from imblearn.combine import SMOTETomek\n",
    "\n",
    "#Split data\n",
    "from sklearn.model_selection import train_test_split\n",
    "\n",
    "#standardization\n",
    "from sklearn.preprocessing import StandardScaler\n",
    "\n",
    "#subplot\n",
    "from pylab import *"
   ]
  },
  {
   "cell_type": "code",
   "execution_count": 6,
   "metadata": {
    "scrolled": true
   },
   "outputs": [
    {
     "name": "stdout",
     "output_type": "stream",
     "text": [
      "<class 'pandas.core.frame.DataFrame'>\n",
      "RangeIndex: 2770409 entries, 0 to 2770408\n",
      "Data columns (total 9 columns):\n",
      "step                int64\n",
      "type                object\n",
      "amount              float64\n",
      "balanceSender       float64\n",
      "balanceReceiver     float64\n",
      "errorBalanceDest    float64\n",
      "errorBalanceOrig    float64\n",
      "noErrors            int64\n",
      "isFraud             int64\n",
      "dtypes: float64(5), int64(3), object(1)\n",
      "memory usage: 190.2+ MB\n"
     ]
    }
   ],
   "source": [
    "######################################   LOAD CLEANED DATA   ################################\n",
    "df = pd.read_csv('data/in_CleanedData.csv')\n",
    "df.info()"
   ]
  },
  {
   "cell_type": "code",
   "execution_count": 7,
   "metadata": {},
   "outputs": [],
   "source": [
    "####################################    DATA PREPROCESSING     ################################\n",
    "##################################### Categorical Variable ####################################\n",
    "\n",
    "# --------- OnHot-encoding of labelled data in 'type'  TRANSFER = 1, CASH_OUT = 0\n",
    "one_hot = pd.get_dummies(df['type'])\n",
    "df = df.drop('type',axis = 1)\n",
    "df = df.join(one_hot)\n"
   ]
  },
  {
   "cell_type": "code",
   "execution_count": 8,
   "metadata": {},
   "outputs": [
    {
     "name": "stdout",
     "output_type": "stream",
     "text": [
      "Dataset       :  2770409 with 0.2965 % fraudulent transactions\n",
      "Data training :  1662245 with 0.2945 % fraudulent transactions\n",
      "Data test     :  1108164 with 0.2994 % fraudulent transactions\n"
     ]
    }
   ],
   "source": [
    "####################################    DATA PREPROCESSING     ################################\n",
    "  #####################################  Split data ###################################\n",
    "\n",
    "# ---------- Split data to tarin and target\n",
    "y_data = df['isFraud']\n",
    "x_data = df.drop(['isFraud'],axis=1)\n",
    "\n",
    "#-------------------Split data to training=60% and test=40%\n",
    "X_train, X_test, Y_train, Y_test=train_test_split(x_data, y_data, test_size=0.4)\n",
    "p=100*float(sum(x == 1 for x in Y_train))/Y_train.size\n",
    "q=100*float(sum(x == 1 for x in Y_test))/Y_test.size\n",
    "r=100*float(sum(x == 1 for x in y_data))/y_data.size\n",
    "\n",
    "#change output from 0/1 to -1/1\n",
    "Y_train=mod(Y_train,2)*2-1\n",
    "Y_test=mod(Y_test,2)*2-1\n",
    "\n",
    "print(\"Dataset       : \",y_data.size,'with %.4f'% r,'% fraudulent transactions')\n",
    "print(\"Data training : \",Y_train.size,'with %.4f'% p,'% fraudulent transactions')\n",
    "print(\"Data test     : \",Y_test.size,'with %.4f'% q,'% fraudulent transactions')\n"
   ]
  },
  {
   "cell_type": "code",
   "execution_count": 9,
   "metadata": {},
   "outputs": [
    {
     "name": "stdout",
     "output_type": "stream",
     "text": [
      "4895\n"
     ]
    },
    {
     "data": {
      "text/html": [
       "<div>\n",
       "<style scoped>\n",
       "    .dataframe tbody tr th:only-of-type {\n",
       "        vertical-align: middle;\n",
       "    }\n",
       "\n",
       "    .dataframe tbody tr th {\n",
       "        vertical-align: top;\n",
       "    }\n",
       "\n",
       "    .dataframe thead th {\n",
       "        text-align: right;\n",
       "    }\n",
       "</style>\n",
       "<table border=\"1\" class=\"dataframe\">\n",
       "  <thead>\n",
       "    <tr style=\"text-align: right;\">\n",
       "      <th></th>\n",
       "      <th>step</th>\n",
       "      <th>amount</th>\n",
       "      <th>balanceSender</th>\n",
       "      <th>balanceReceiver</th>\n",
       "      <th>errorBalanceDest</th>\n",
       "      <th>errorBalanceOrig</th>\n",
       "      <th>noErrors</th>\n",
       "      <th>CASH_OUT</th>\n",
       "      <th>TRANSFER</th>\n",
       "    </tr>\n",
       "  </thead>\n",
       "  <tbody>\n",
       "    <tr>\n",
       "      <th>1647180</th>\n",
       "      <td>279</td>\n",
       "      <td>338709.20</td>\n",
       "      <td>0.00</td>\n",
       "      <td>691646.33</td>\n",
       "      <td>1.164153e-10</td>\n",
       "      <td>338709.20</td>\n",
       "      <td>0</td>\n",
       "      <td>1</td>\n",
       "      <td>0</td>\n",
       "    </tr>\n",
       "    <tr>\n",
       "      <th>1309509</th>\n",
       "      <td>231</td>\n",
       "      <td>62328.64</td>\n",
       "      <td>775606.34</td>\n",
       "      <td>1015843.14</td>\n",
       "      <td>0.000000e+00</td>\n",
       "      <td>0.00</td>\n",
       "      <td>1</td>\n",
       "      <td>1</td>\n",
       "      <td>0</td>\n",
       "    </tr>\n",
       "    <tr>\n",
       "      <th>1978486</th>\n",
       "      <td>326</td>\n",
       "      <td>329063.35</td>\n",
       "      <td>0.00</td>\n",
       "      <td>361479.54</td>\n",
       "      <td>0.000000e+00</td>\n",
       "      <td>278183.35</td>\n",
       "      <td>0</td>\n",
       "      <td>1</td>\n",
       "      <td>0</td>\n",
       "    </tr>\n",
       "    <tr>\n",
       "      <th>1138044</th>\n",
       "      <td>207</td>\n",
       "      <td>54714.09</td>\n",
       "      <td>0.00</td>\n",
       "      <td>11637327.70</td>\n",
       "      <td>-1.000000e-02</td>\n",
       "      <td>54714.09</td>\n",
       "      <td>0</td>\n",
       "      <td>1</td>\n",
       "      <td>0</td>\n",
       "    </tr>\n",
       "    <tr>\n",
       "      <th>245783</th>\n",
       "      <td>22</td>\n",
       "      <td>134860.60</td>\n",
       "      <td>0.00</td>\n",
       "      <td>2027256.93</td>\n",
       "      <td>-1.000000e-02</td>\n",
       "      <td>134860.60</td>\n",
       "      <td>0</td>\n",
       "      <td>1</td>\n",
       "      <td>0</td>\n",
       "    </tr>\n",
       "    <tr>\n",
       "      <th>2525259</th>\n",
       "      <td>400</td>\n",
       "      <td>152602.13</td>\n",
       "      <td>0.00</td>\n",
       "      <td>152602.13</td>\n",
       "      <td>0.000000e+00</td>\n",
       "      <td>101069.13</td>\n",
       "      <td>0</td>\n",
       "      <td>0</td>\n",
       "      <td>1</td>\n",
       "    </tr>\n",
       "    <tr>\n",
       "      <th>94532</th>\n",
       "      <td>14</td>\n",
       "      <td>590164.70</td>\n",
       "      <td>0.00</td>\n",
       "      <td>1322342.28</td>\n",
       "      <td>-2.328306e-10</td>\n",
       "      <td>590164.70</td>\n",
       "      <td>0</td>\n",
       "      <td>1</td>\n",
       "      <td>0</td>\n",
       "    </tr>\n",
       "    <tr>\n",
       "      <th>1350112</th>\n",
       "      <td>235</td>\n",
       "      <td>319334.02</td>\n",
       "      <td>0.00</td>\n",
       "      <td>319334.02</td>\n",
       "      <td>0.000000e+00</td>\n",
       "      <td>308822.02</td>\n",
       "      <td>0</td>\n",
       "      <td>1</td>\n",
       "      <td>0</td>\n",
       "    </tr>\n",
       "    <tr>\n",
       "      <th>384720</th>\n",
       "      <td>42</td>\n",
       "      <td>13238.26</td>\n",
       "      <td>0.00</td>\n",
       "      <td>131782.96</td>\n",
       "      <td>-5.094870e+04</td>\n",
       "      <td>13238.26</td>\n",
       "      <td>0</td>\n",
       "      <td>1</td>\n",
       "      <td>0</td>\n",
       "    </tr>\n",
       "    <tr>\n",
       "      <th>1679960</th>\n",
       "      <td>282</td>\n",
       "      <td>397084.77</td>\n",
       "      <td>0.00</td>\n",
       "      <td>5030898.15</td>\n",
       "      <td>-1.000000e-02</td>\n",
       "      <td>397084.77</td>\n",
       "      <td>0</td>\n",
       "      <td>0</td>\n",
       "      <td>1</td>\n",
       "    </tr>\n",
       "  </tbody>\n",
       "</table>\n",
       "</div>"
      ],
      "text/plain": [
       "         step     amount  balanceSender  balanceReceiver  errorBalanceDest  \\\n",
       "1647180   279  338709.20           0.00        691646.33      1.164153e-10   \n",
       "1309509   231   62328.64      775606.34       1015843.14      0.000000e+00   \n",
       "1978486   326  329063.35           0.00        361479.54      0.000000e+00   \n",
       "1138044   207   54714.09           0.00      11637327.70     -1.000000e-02   \n",
       "245783     22  134860.60           0.00       2027256.93     -1.000000e-02   \n",
       "2525259   400  152602.13           0.00        152602.13      0.000000e+00   \n",
       "94532      14  590164.70           0.00       1322342.28     -2.328306e-10   \n",
       "1350112   235  319334.02           0.00        319334.02      0.000000e+00   \n",
       "384720     42   13238.26           0.00        131782.96     -5.094870e+04   \n",
       "1679960   282  397084.77           0.00       5030898.15     -1.000000e-02   \n",
       "\n",
       "         errorBalanceOrig  noErrors  CASH_OUT  TRANSFER  \n",
       "1647180         338709.20         0         1         0  \n",
       "1309509              0.00         1         1         0  \n",
       "1978486         278183.35         0         1         0  \n",
       "1138044          54714.09         0         1         0  \n",
       "245783          134860.60         0         1         0  \n",
       "2525259         101069.13         0         0         1  \n",
       "94532           590164.70         0         1         0  \n",
       "1350112         308822.02         0         1         0  \n",
       "384720           13238.26         0         1         0  \n",
       "1679960         397084.77         0         0         1  "
      ]
     },
     "execution_count": 9,
     "metadata": {},
     "output_type": "execute_result"
    }
   ],
   "source": [
    "print(sum(x == 1 for x in Y_train))\n",
    "X_train[:10]"
   ]
  },
  {
   "cell_type": "code",
   "execution_count": null,
   "metadata": {},
   "outputs": [],
   "source": [
    "####################################    DATA PREPROCESSING     ################################\n",
    "###################################### Unbalanced data ########################################\n",
    "\n",
    "#---------------------- OverSampling and UnderSampling\n",
    "\n",
    "subplot(2,1,1)\n",
    "pd.value_counts(Y_train).plot.bar()\n",
    "plt.title('Fraud class histogram before SMOTETomek')\n",
    "plt.xlabel('Class')\n",
    "plt.ylabel('Frequency')\n",
    "\n",
    "#---------------------- OverSampling and UnderSampling\n",
    "start_time = time.time()\n",
    "smt = SMOTETomek(ratio='auto')\n",
    "x_train, y_train = smt.fit_sample(X_train, Y_train.ravel())\n",
    "\n",
    "print(\"--- Model Predicting in %s seconds ---\" % (time.time() - start_time))\n",
    "print('After OverUnderSampling, the shape of train_X: {}'.format(x_train.shape))\n",
    "\n",
    "subplot(2,1,2)\n",
    "pd.value_counts(y_train).plot.bar()\n",
    "plt.title('Fraud class histogram after TuningSMOTE')\n",
    "plt.xlabel('Class')\n",
    "plt.ylabel('Frequency')\n",
    "\n"
   ]
  },
  {
   "cell_type": "code",
   "execution_count": null,
   "metadata": {},
   "outputs": [],
   "source": [
    "#save unbalanced data\n"
   ]
  },
  {
   "cell_type": "code",
   "execution_count": 29,
   "metadata": {},
   "outputs": [
    {
     "name": "stdout",
     "output_type": "stream",
     "text": [
      "we need  2  dimesion to explain 99% of the variance \n"
     ]
    },
    {
     "data": {
      "image/png": "[encoded data removed]",
      "text/plain": [
       "<Figure size 432x288 with 1 Axes>"
      ]
     },
     "metadata": {
      "needs_background": "light"
     },
     "output_type": "display_data"
    }
   ],
   "source": [
    "####################################    DATA PREPROCESSING     ################################\n",
    "\n",
    "#----------------- PCA : singular value decomposition SVD ---------------\n",
    "\n",
    "# Calculating Eigenvectors and eigenvalues of Cov matirx\n",
    "mean_vec = np.mean(X_train, axis=0)\n",
    "cov_mat = np.cov(X_train.T)\n",
    "eig_vals, eig_vecs = np.linalg.eig(cov_mat)\n",
    "\n",
    "# Create a list of (eigenvalue, eigenvector) tuples\n",
    "eig_pairs = [ (np.abs(eig_vals[i]),eig_vecs[:,i]) for i in range(len(eig_vals))]\n",
    "\n",
    "# Sort the eigenvalue, eigenvector pair from high to low\n",
    "eig_pairs.sort(key = lambda x: x[0], reverse= True)\n",
    "\n",
    "\n",
    "\n",
    "# Calculation of Explained Variance from the eigenvalues\n",
    "tot = sum(eig_vals)\n",
    "var_exp = [(i/tot)*100 for i in sorted(eig_vals, reverse=True)] # Individual explained variance\n",
    "cum_var_exp = np.cumsum(var_exp) # Cumulative explained variance\n",
    "\n",
    "#plot \n",
    "plt.plot(cum_var_exp, 'k',cum_var_exp, 'bo')\n",
    "plt.ylabel('% Variance Explained')\n",
    "plt.xlabel('# of Features')\n",
    "plt.title('PCA Analysis')\n",
    "\n",
    "# Find the eigenvector beyond which 90% of the data is explained\n",
    "d=[ n for n,i in enumerate(cum_var_exp) if i>99 ][0]\n",
    "print('we need ', d,' dimesion to explain 99% of the variance ')\n",
    "#So, we need 2 eigenvectors to explain 99% of the variance. So, let us reshape our training data matrix into a 42000*228 \n",
    "#matrix with each column corresponding to the projections onto the eigenvectors.\n",
    "\n"
   ]
  },
  {
   "cell_type": "code",
   "execution_count": 46,
   "metadata": {},
   "outputs": [
    {
     "data": {
      "text/plain": [
       "-1"
      ]
     },
     "execution_count": 46,
     "metadata": {},
     "output_type": "execute_result"
    }
   ],
   "source": [
    "Y_train[2]"
   ]
  },
  {
   "cell_type": "code",
   "execution_count": null,
   "metadata": {},
   "outputs": [],
   "source": [
    "####################################    DATA PREPROCESSING     ################################\n",
    "\n",
    "#----------------- PCA : singular value decomposition SVD ---------------\n",
    "# Call the PCA method with 2 components. \n",
    "pca_train = PCA(n_components=d)\n",
    "\n",
    "pca_train.fit(X_train)\n",
    "X_train = pca_train.transform(X_train)\n",
    "print(\"Data training size\", X_train.shape)\n",
    "\n",
    "plt.scatter(X_train[:, 0], X_train[:, 1],X_train[:], edgecolor='none', alpha=0.5)\n",
    "plt.xlabel('component 1')\n",
    "plt.ylabel('component 2')\n",
    "\n"
   ]
  }
 ],
 "metadata": {
  "kernelspec": {
   "display_name": "Python 3",
   "language": "python",
   "name": "python3"
  },
  "language_info": {
   "codemirror_mode": {
    "name": "ipython",
    "version": 3
   },
   "file_extension": ".py",
   "mimetype": "text/x-python",
   "name": "python",
   "nbconvert_exporter": "python",
   "pygments_lexer": "ipython3",
   "version": "3.7.0"
  }
 },
 "nbformat": 4,
 "nbformat_minor": 2
}
