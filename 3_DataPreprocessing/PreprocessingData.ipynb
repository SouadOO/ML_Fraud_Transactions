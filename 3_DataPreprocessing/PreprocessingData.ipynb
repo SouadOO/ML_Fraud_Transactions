{
 "cells": [
  {
   "cell_type": "code",
   "execution_count": 1,
   "metadata": {},
   "outputs": [],
   "source": [
    "# Preprocessing data\n",
    "#    Objectif: preprocessing data with encoding,scaling,PCA\n",
    "#    Input: cleanedData.csv\n",
    "#    Output: \n",
    "#     preprocessed data without PCA:\n",
    "#        x_train.csv \n",
    "#        y_train.csv \n",
    "#        x_test.csv \n",
    "#        y_test.csv \n",
    "#    preprocessed data with PCA:\n",
    "#        x_pca_train.csv \n",
    "#        y_pca_train.csv \n",
    "\n",
    "#    Author: SOUAD BOUTANE - NARGES ROKNI"
   ]
  },
  {
   "cell_type": "code",
   "execution_count": 1,
   "metadata": {},
   "outputs": [],
   "source": [
    "\n",
    "import numpy as np \n",
    "import pandas as pd \n",
    "import seaborn as sns\n",
    "import matplotlib.pyplot as plt\n",
    "%matplotlib inline\n",
    "import warnings\n",
    "warnings.filterwarnings(\"ignore\", category=DeprecationWarning)\n",
    "\n",
    "#Split data\n",
    "from sklearn.model_selection import train_test_split\n",
    "\n",
    "# Import the 3 dimensionality reduction methods\n",
    "from sklearn.decomposition import PCA\n",
    "\n",
    "#standardization\n",
    "from sklearn.preprocessing import StandardScaler\n",
    "\n",
    "#subplot\n",
    "from pylab import *"
   ]
  },
  {
   "cell_type": "code",
   "execution_count": 7,
   "metadata": {
    "scrolled": true
   },
   "outputs": [
    {
     "name": "stdout",
     "output_type": "stream",
     "text": [
      "<class 'pandas.core.frame.DataFrame'>\n",
      "RangeIndex: 2768088 entries, 0 to 2768087\n",
      "Data columns (total 9 columns):\n",
      "step                int64\n",
      "HourOfDay           int64\n",
      "type                object\n",
      "amount              float64\n",
      "balanceSender       float64\n",
      "balanceReceiver     float64\n",
      "errorBalanceDest    float64\n",
      "errorBalanceOrig    float64\n",
      "isFraud             int64\n",
      "dtypes: float64(5), int64(3), object(1)\n",
      "memory usage: 190.1+ MB\n"
     ]
    }
   ],
   "source": [
    "######################################   LOAD CLEANED DATA   ################################\n",
    "df = pd.read_csv('../data/cleanedData.csv')\n",
    "df.info()"
   ]
  },
  {
   "cell_type": "code",
   "execution_count": 8,
   "metadata": {},
   "outputs": [],
   "source": [
    "####################################    DATA PREPROCESSING     ################################\n",
    "##################################### Categorical Variable ####################################\n",
    "\n",
    "# --------- OnHot-encoding of labelled data in 'type'  TRANSFER = 1, CASH_OUT = 0\n",
    "one_hot = pd.get_dummies(df['type'])\n",
    "df = df.drop('type',axis = 1)\n",
    "df = df.join(one_hot)\n"
   ]
  },
  {
   "cell_type": "code",
   "execution_count": 9,
   "metadata": {},
   "outputs": [
    {
     "name": "stdout",
     "output_type": "stream",
     "text": [
      "Dataset       :  2768088 with 0.2967 % fraudulent transactions\n",
      "Data training :  1660852 with 0.2987 % fraudulent transactions\n",
      "Data test     :  1107236 with 0.2937 % fraudulent transactions\n"
     ]
    }
   ],
   "source": [
    "####################################    DATA PREPROCESSING     ################################\n",
    "  #####################################  Split data ###################################\n",
    "\n",
    "# ---------- Split data to tarin and target\n",
    "y_data = df['isFraud']\n",
    "x_data = df.drop(['isFraud'],axis=1)\n",
    "\n",
    "#-------------------Split data to training=60% and test=40%\n",
    "X_train, X_test, Y_train, Y_test=train_test_split(x_data, y_data, test_size=0.4)\n",
    "p=100*float(sum(x == 1 for x in Y_train))/Y_train.size\n",
    "q=100*float(sum(x == 1 for x in Y_test))/Y_test.size\n",
    "r=100*float(sum(x == 1 for x in y_data))/y_data.size\n",
    "\n",
    "print(\"Dataset       : \",y_data.size,'with %.4f'% r,'% fraudulent transactions')\n",
    "print(\"Data training : \",Y_train.size,'with %.4f'% p,'% fraudulent transactions')\n",
    "print(\"Data test     : \",Y_test.size,'with %.4f'% q,'% fraudulent transactions')\n"
   ]
  },
  {
   "cell_type": "code",
   "execution_count": 10,
   "metadata": {},
   "outputs": [
    {
     "name": "stdout",
     "output_type": "stream",
     "text": [
      "the number of fraud transcation in data training is : 4961\n",
      "the number of genuine transcation in data training is : 1655891\n"
     ]
    }
   ],
   "source": [
    "print('the number of fraud transcation in data training is :',sum(x == 1 for x in Y_train))\n",
    "print('the number of genuine transcation in data training is :',sum(x != 1 for x in Y_train))"
   ]
  },
  {
   "cell_type": "code",
   "execution_count": 11,
   "metadata": {},
   "outputs": [],
   "source": [
    "####################################    DATA PREPROCESSING     ################################\n",
    "##################################### Standardize the data ####################################\n",
    "\n",
    "\n",
    "scaler = StandardScaler()\n",
    "\n",
    "#get trainingX and test X\n",
    "x = X_train.values\n",
    "x_ = X_test.values\n",
    "\n",
    "#fir for training\n",
    "scaler.fit(x)\n",
    "\n",
    "#for test data\n",
    "X_test = scaler.transform(x_)\n",
    "X_train = scaler.transform(x)\n",
    "\n",
    "#change output from 0/1 to -1/1\n",
    "#Y_train=mod(Y_train,2)*2-1\n",
    "#Y_test=mod(Y_test,2)*2-1"
   ]
  },
  {
   "cell_type": "code",
   "execution_count": 12,
   "metadata": {},
   "outputs": [],
   "source": [
    "#Save dataTraining and dataTest\n",
    "np.savetxt('../data/x_train.csv', X_train, delimiter=\",\")\n",
    "np.savetxt('../data/y_train.csv', Y_train, delimiter=\",\")\n",
    "np.savetxt('../data/x_test.csv', X_test, delimiter=\",\")\n",
    "np.savetxt('../data/y_test.csv', Y_test, delimiter=\",\")"
   ]
  },
  {
   "cell_type": "code",
   "execution_count": 13,
   "metadata": {},
   "outputs": [
    {
     "name": "stdout",
     "output_type": "stream",
     "text": [
      "we need  4  dimesion to explain 80% of the variance \n"
     ]
    },
    {
     "data": {
      "image/png": "[encoded data removed]",
      "text/plain": [
       "<Figure size 432x288 with 1 Axes>"
      ]
     },
     "metadata": {
      "needs_background": "light"
     },
     "output_type": "display_data"
    }
   ],
   "source": [
    "####################################    DATA PREPROCESSING     ################################\n",
    "\n",
    "#----------------- PCA : singular value decomposition SVD ---------------\n",
    "\n",
    "# Calculating Eigenvectors and eigenvalues of Cov matirx\n",
    "mean_vec = np.mean(X_train, axis=0)\n",
    "cov_mat = np.cov(X_train.T)\n",
    "eig_vals, eig_vecs = np.linalg.eig(cov_mat)\n",
    "\n",
    "# Create a list of (eigenvalue, eigenvector) tuples\n",
    "eig_pairs = [ (np.abs(eig_vals[i]),eig_vecs[:,i]) for i in range(len(eig_vals))]\n",
    "\n",
    "# Sort the eigenvalue, eigenvector pair from high to low\n",
    "eig_pairs.sort(key = lambda x: x[0], reverse= True)\n",
    "\n",
    "\n",
    "\n",
    "# Calculation of Explained Variance from the eigenvalues\n",
    "tot = sum(eig_vals)\n",
    "var_exp = [(i/tot)*100 for i in sorted(eig_vals, reverse=True)] # Individual explained variance\n",
    "cum_var_exp = np.cumsum(var_exp) # Cumulative explained variance\n",
    "\n",
    "#plot \n",
    "plt.plot(cum_var_exp, 'k',cum_var_exp, 'bo')\n",
    "plt.ylabel('% Variance Explained')\n",
    "plt.xlabel('# of Features')\n",
    "plt.title('PCA Analysis')\n",
    "\n",
    "# Find the eigenvector beyond which 90% of the data is explained\n",
    "d=[ n for n,i in enumerate(cum_var_exp) if i>80 ][0]\n",
    "print('we need ', d,' dimesion to explain 80% of the variance ')\n",
    "#So, we need 2 eigenvectors to explain 90% of the variance. So, let us reshape our training data matrix into a 42000*228 \n",
    "#matrix with each column corresponding to the projections onto the eigenvectors.\n",
    "\n"
   ]
  },
  {
   "cell_type": "code",
   "execution_count": 14,
   "metadata": {},
   "outputs": [
    {
     "name": "stdout",
     "output_type": "stream",
     "text": [
      "Data training size (1660852, 4)\n",
      "Data test size (1107236, 4)\n"
     ]
    }
   ],
   "source": [
    "####################################    DATA PREPROCESSING     ################################\n",
    "\n",
    "#----------------- PCA : singular value decomposition SVD ---------------\n",
    "# Call the PCA method with 4 components. \n",
    "pca_train = PCA(n_components=d)\n",
    "\n",
    "pca_train.fit(X_train)\n",
    "X_pca_train = pca_train.transform(X_train)\n",
    "print(\"Data training size\", X_pca_train.shape)\n",
    "\n",
    "pca_test = PCA(n_components=d)\n",
    "pca_test.fit(X_test)\n",
    "X_pca_test = pca_test.transform(X_test)\n",
    "print(\"Data test size\", X_pca_test.shape)\n",
    "\n",
    "#plt.scatter(X_train[:, 0], X_train[:, 1],X_train[:], edgecolor='none', alpha=0.5)\n",
    "#plt.xlabel('component 1')\n",
    "#plt.ylabel('component 2')\n",
    "\n"
   ]
  },
  {
   "cell_type": "code",
   "execution_count": 15,
   "metadata": {},
   "outputs": [],
   "source": [
    "#Save dataTraining and dataTest\n",
    "np.savetxt('../data/pca/x_pca_train.csv', X_pca_train, delimiter=\",\")\n",
    "np.savetxt('../data/pca/x_pca_test.csv', X_pca_test, delimiter=\",\")"
   ]
  },
  {
   "cell_type": "code",
   "execution_count": null,
   "metadata": {},
   "outputs": [],
   "source": []
  }
 ],
 "metadata": {
  "kernelspec": {
   "display_name": "Python 3",
   "language": "python",
   "name": "python3"
  },
  "language_info": {
   "codemirror_mode": {
    "name": "ipython",
    "version": 3
   },
   "file_extension": ".py",
   "mimetype": "text/x-python",
   "name": "python",
   "nbconvert_exporter": "python",
   "pygments_lexer": "ipython3",
   "version": "3.7.0"
  }
 },
 "nbformat": 4,
 "nbformat_minor": 2
}
