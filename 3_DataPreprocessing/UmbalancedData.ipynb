{
 "cells": [
  {
   "cell_type": "code",
   "execution_count": 1,
   "metadata": {},
   "outputs": [],
   "source": [
    "# Balance data\n",
    "#    Objectif: Deal with the probleme of unbalanced data using several technics\n",
    "#    Input: \n",
    "#     preprocessed data without PCA:\n",
    "#        x_train.csv \n",
    "#        y_train.csv \n",
    "#        x_test.csv \n",
    "#        y_test.csv \n",
    "#   Output:\n",
    "#    Balanced data:\n",
    "#        x_st_train.csv \n",
    "#        y_st_train.csv \n",
    "\n",
    "#    Author: SOUAD BOUTANE \n"
   ]
  },
  {
   "cell_type": "code",
   "execution_count": 2,
   "metadata": {},
   "outputs": [],
   "source": [
    "import numpy as np \n",
    "import pandas as pd \n",
    "import matplotlib.pyplot as plt\n",
    "%matplotlib inline\n",
    "import warnings\n",
    "warnings.filterwarnings(\"ignore\", category=DeprecationWarning)\n",
    "\n",
    "#subplot\n",
    "from pylab import *"
   ]
  },
  {
   "cell_type": "code",
   "execution_count": 3,
   "metadata": {},
   "outputs": [],
   "source": [
    "####################################    Balance DATA     ################################\n",
    "######################################## LOAD DATA ####################################\n",
    "\n",
    "X = np.genfromtxt('../data/x_train.csv', delimiter=',')\n",
    "Y=np.genfromtxt('../data/y_train.csv', delimiter=',')\n"
   ]
  },
  {
   "cell_type": "code",
   "execution_count": 4,
   "metadata": {},
   "outputs": [
    {
     "data": {
      "text/plain": [
       "(1660852, 9)"
      ]
     },
     "execution_count": 4,
     "metadata": {},
     "output_type": "execute_result"
    }
   ],
   "source": [
    "X.shape"
   ]
  },
  {
   "cell_type": "code",
   "execution_count": 5,
   "metadata": {},
   "outputs": [],
   "source": [
    "#To plot data\n",
    "\n",
    "def plot_data(X, y,label):\n",
    "    #histogram for class size\n",
    "    \n",
    "    subplot(1,2,1)\n",
    "    pd.value_counts(y).plot.bar()\n",
    "    plt.title(label)\n",
    "    plt.xlabel('Class')\n",
    "    plt.ylabel('Frequency')\n",
    "    plt.show()\n",
    "    '''\n",
    "    #plot class\n",
    "    plt.subplot(1,2,2)\n",
    "    plt.scatter(X[100,0], X[100,2], alpha=0.2,c=y[100])\n",
    "    plt.title('Class for first 1000 transaction')\n",
    "    plt.legend(loc='upper right')\n",
    "    plt.figure(figsize=(15,10))\n",
    "    plt.show()\n",
    "  '''"
   ]
  },
  {
   "cell_type": "code",
   "execution_count": 7,
   "metadata": {},
   "outputs": [
    {
     "data": {
      "image/png": "[encoded data removed]",
      "text/plain": [
       "<Figure size 432x288 with 1 Axes>"
      ]
     },
     "metadata": {
      "needs_background": "light"
     },
     "output_type": "display_data"
    }
   ],
   "source": [
    "plot_data(X, Y,'Unbalanced data')"
   ]
  },
  {
   "cell_type": "code",
   "execution_count": 8,
   "metadata": {},
   "outputs": [
    {
     "name": "stdout",
     "output_type": "stream",
     "text": [
      "After UnderSampling, the shape of training: (3311782, 9)\n"
     ]
    },
    {
     "data": {
      "image/png": "[encoded data removed]",
      "text/plain": [
       "<Figure size 432x288 with 1 Axes>"
      ]
     },
     "metadata": {
      "needs_background": "light"
     },
     "output_type": "display_data"
    }
   ],
   "source": [
    "####################################    DATA PREPROCESSING     ################################\n",
    "  #################################### OVERSAMPLING SMOTE ########################################\n",
    "from imblearn.over_sampling import SMOTE\n",
    "\n",
    "smote = SMOTE(ratio='minority',k_neighbors=6)\n",
    "X_sm, Y_sm = smote.fit_sample(X, Y)\n",
    "\n",
    "print('After UnderSampling, the shape of training: {}'.format(X_sm.shape))\n",
    "plot_data(X_sm, Y_sm,'SMOTE over-sampling')"
   ]
  },
  {
   "cell_type": "code",
   "execution_count": 9,
   "metadata": {},
   "outputs": [],
   "source": [
    "#Save dataTraining and dataTest\n",
    "np.savetxt('../data/x_sm_train.csv', X_sm, delimiter=\",\")\n",
    "np.savetxt('../data/y_sm_train.csv', Y_sm, delimiter=\",\")"
   ]
  },
  {
   "cell_type": "code",
   "execution_count": 14,
   "metadata": {},
   "outputs": [
    {
     "name": "stdout",
     "output_type": "stream",
     "text": [
      "b= 80000 a= 0 x shape (1,)\n",
      "b= 160000 a= 80000 x shape (79978,)\n",
      "b= 240000 a= 160000 x shape (159955,)\n",
      "b= 320000 a= 240000 x shape (239929,)\n",
      "b= 400000 a= 320000 x shape (319908,)\n",
      "b= 480000 a= 400000 x shape (399880,)\n",
      "b= 560000 a= 480000 x shape (479860,)\n",
      "b= 640000 a= 560000 x shape (559838,)\n",
      "b= 720000 a= 640000 x shape (639813,)\n",
      "b= 800000 a= 720000 x shape (719795,)\n",
      "b= 880000 a= 800000 x shape (799770,)\n",
      "b= 960000 a= 880000 x shape (879746,)\n",
      "b= 1040000 a= 960000 x shape (959724,)\n",
      "b= 1120000 a= 1040000 x shape (1039703,)\n",
      "b= 1200000 a= 1120000 x shape (1119687,)\n",
      "b= 1280000 a= 1200000 x shape (1199662,)\n",
      "b= 1360000 a= 1280000 x shape (1279646,)\n",
      "b= 1440000 a= 1360000 x shape (1359630,)\n",
      "b= 1520000 a= 1440000 x shape (1439613,)\n",
      "b= 1600000 a= 1520000 x shape (1519588,)\n",
      "b= 1600000 a= 1600000 x shape (1599562,)\n",
      "b= 1600000 a= 1600000 x shape (1660811,)\n",
      "After UnderSampling, the shape of training: (1660811, 9)\n"
     ]
    },
    {
     "data": {
      "image/png": "[encoded data removed]",
      "text/plain": [
       "<Figure size 432x288 with 1 Axes>"
      ]
     },
     "metadata": {
      "needs_background": "light"
     },
     "output_type": "display_data"
    }
   ],
   "source": [
    "####################################    DATA PREPROCESSING     ################################\n",
    "#################################### UNDERSAMPLING TOMEKLINK ########################################\n",
    "\n",
    "from imblearn.under_sampling import TomekLinks\n",
    "\n",
    "TL = TomekLinks(return_indices=True, ratio='majority')\n",
    "a=0\n",
    "X_tl=X[:1]\n",
    "Y_tl=Y[:1]\n",
    "for i in range(1,21):\n",
    "    b=i*80000\n",
    "    print('b=',b,'a=',a,'x shape',Y_tl.shape)\n",
    "    x, y,i= TL.fit_sample(X[a:b], Y[a:b])\n",
    "    X_tl=np.concatenate((X_tl, x), axis=0)\n",
    "    Y_tl=np.concatenate((Y_tl, y), axis=0)\n",
    "    a=b\n",
    "print('b=',b,'a=',a,'x shape',Y_tl.shape)\n",
    "x, y,i= TL.fit_sample(X[1599588:1660852], Y[1599588:1660852])\n",
    "X_tl=np.concatenate((X_tl, x), axis=0)\n",
    "Y_tl=np.concatenate((Y_tl, y), axis=0)\n",
    "print('b=',b,'a=',a,'x shape',Y_tl.shape)\n",
    "     \n",
    "    \n",
    "print('After UnderSampling, the shape of training: {}'.format(X_tl.shape))\n",
    "\n",
    "plot_data(X_tl, Y_tl, 'Tomek links under-sampling')\n",
    "\n",
    "#It takes many time and doesn't work at the end "
   ]
  },
  {
   "cell_type": "code",
   "execution_count": null,
   "metadata": {},
   "outputs": [],
   "source": [
    "####################################    DATA PREPROCESSING     ################################\n",
    "###################################### Unbalanced data ########################################\n",
    "\n",
    "#Unbalanced data\n",
    "from imblearn.combine import SMOTETomek\n",
    "\n",
    "#---------------------- OverSampling and UnderSampling\n",
    "\n",
    "smt = SMOTETomek(ratio='auto',random_state=0)\n",
    "x_ts, y_ts = smt.fit_sample(X[:800000], Y[:800000])\n",
    "\n",
    "\n",
    "print('After OverUnderSampling, the shape of train_X: {}'.format(x_ts.shape))\n",
    "plot_data(x_ts, y_ts, 'TomekSmote under-over-sampling')\n"
   ]
  }
 ],
 "metadata": {
  "kernelspec": {
   "display_name": "Python 3",
   "language": "python",
   "name": "python3"
  },
  "language_info": {
   "codemirror_mode": {
    "name": "ipython",
    "version": 3
   },
   "file_extension": ".py",
   "mimetype": "text/x-python",
   "name": "python",
   "nbconvert_exporter": "python",
   "pygments_lexer": "ipython3",
   "version": "3.7.0"
  }
 },
 "nbformat": 4,
 "nbformat_minor": 2
}
